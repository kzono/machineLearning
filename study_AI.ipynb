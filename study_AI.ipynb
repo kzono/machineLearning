{
  "nbformat": 4,
  "nbformat_minor": 0,
  "metadata": {
    "colab": {
      "name": "study_AI.ipynb",
      "provenance": [],
      "include_colab_link": true
    },
    "kernelspec": {
      "name": "python3",
      "display_name": "Python 3"
    }
  },
  "cells": [
    {
      "cell_type": "markdown",
      "metadata": {
        "id": "view-in-github",
        "colab_type": "text"
      },
      "source": [
        "<a href=\"https://colab.research.google.com/github/kzono/machineLearning/blob/master/study_AI.ipynb\" target=\"_parent\"><img src=\"https://colab.research.google.com/assets/colab-badge.svg\" alt=\"Open In Colab\"/></a>"
      ]
    },
    {
      "cell_type": "code",
      "metadata": {
        "id": "MAo__aVrRmHi",
        "colab_type": "code",
        "colab": {}
      },
      "source": [
        "機械学習の勉強過程を記録するため、 google colaboratory を利用する。まずは、 Keras + TensorFlow で MNIST の実行から始めようと思う。機械学習の世界ではこれが \"Hello World\" らしいので。\n",
        "chainer が開発停止して PyTorch 推奨になったらしいので、PyTorch も学びたい。\n",
        "\n",
        "また、google colaboratory は github と連携できるようなので、このノートブックは github で管理しようと思う。\n",
        "ただし、工夫をしないと Google Drive にオリジナルを保存し、そのコピーがgithub に登録、という感じになるらしい。\n"
      ],
      "execution_count": 0,
      "outputs": []
    }
  ]
}